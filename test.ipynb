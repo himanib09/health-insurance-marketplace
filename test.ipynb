{
 "cells": [
  {
   "cell_type": "code",
   "execution_count": 4,
   "metadata": {},
   "outputs": [],
   "source": [
    "import dask.dataframe as dd\n",
    "from dask.diagnostics import ProgressBar\n",
    "import numpy as np\n",
    "import pandas as pd\n",
    "import json"
   ]
  },
  {
   "cell_type": "code",
   "execution_count": 6,
   "metadata": {},
   "outputs": [
    {
     "data": {
      "text/plain": [
       "'NaN'"
      ]
     },
     "execution_count": 6,
     "metadata": {},
     "output_type": "execute_result"
    }
   ],
   "source": [
    "json.dumps(np.nan)"
   ]
  },
  {
   "cell_type": "code",
   "execution_count": 9,
   "metadata": {},
   "outputs": [],
   "source": [
    "query_data = [{1:3, 2:4, 4:np.nan}]"
   ]
  },
  {
   "cell_type": "code",
   "execution_count": 12,
   "metadata": {},
   "outputs": [
    {
     "data": {
      "text/plain": [
       "[{1: 3, 2: 4, 4: 0}]"
      ]
     },
     "execution_count": 12,
     "metadata": {},
     "output_type": "execute_result"
    }
   ],
   "source": [
    "[{k: 0 if type(v) == type(np.nan) else v for k, v in d.items()} for d in query_data]"
   ]
  },
  {
   "cell_type": "code",
   "execution_count": 13,
   "metadata": {},
   "outputs": [
    {
     "name": "stdout",
     "output_type": "stream",
     "text": [
      "BenefitsCostSharing.csv\n",
      "BenefitsCostSharing.zip\n",
      "server.py\n",
      "static\n",
      "temp.json\n",
      "templates\n",
      "test.ipynb\n"
     ]
    }
   ],
   "source": [
    "!ls"
   ]
  },
  {
   "cell_type": "code",
   "execution_count": 14,
   "metadata": {},
   "outputs": [],
   "source": [
    "dtypes = {\n",
    "    'BenefitName': np.str, 'BusinessYear': np.uint16, 'CoinsOutofNet':np.str, 'EHBVarReason':np.str, 'Explanation':np.str, 'PlanId':np.str,\n",
    "       'RowNumber':np.uint16, 'SourceName':np.str, 'StandardComponentId':np.str, 'StateCode':np.str,\n",
    "       'StateCode2':np.str, 'VersionNum':np.uint16\n",
    "}"
   ]
  },
  {
   "cell_type": "code",
   "execution_count": 15,
   "metadata": {},
   "outputs": [],
   "source": [
    "# pd.read_csv??"
   ]
  },
  {
   "cell_type": "code",
   "execution_count": 16,
   "metadata": {},
   "outputs": [
    {
     "data": {
      "text/html": [
       "<div>\n",
       "<style scoped>\n",
       "    .dataframe tbody tr th:only-of-type {\n",
       "        vertical-align: middle;\n",
       "    }\n",
       "\n",
       "    .dataframe tbody tr th {\n",
       "        vertical-align: top;\n",
       "    }\n",
       "\n",
       "    .dataframe thead th {\n",
       "        text-align: right;\n",
       "    }\n",
       "</style>\n",
       "<table border=\"1\" class=\"dataframe\">\n",
       "  <thead>\n",
       "    <tr style=\"text-align: right;\">\n",
       "      <th></th>\n",
       "      <th>BenefitName</th>\n",
       "      <th>BusinessYear</th>\n",
       "      <th>CoinsOutofNet</th>\n",
       "      <th>EHBVarReason</th>\n",
       "      <th>Explanation</th>\n",
       "      <th>PlanId</th>\n",
       "      <th>RowNumber</th>\n",
       "      <th>SourceName</th>\n",
       "      <th>StandardComponentId</th>\n",
       "      <th>StateCode</th>\n",
       "      <th>StateCode2</th>\n",
       "      <th>VersionNum</th>\n",
       "    </tr>\n",
       "  </thead>\n",
       "  <tbody>\n",
       "    <tr>\n",
       "      <th>0</th>\n",
       "      <td>Routine Dental Services (Adult)</td>\n",
       "      <td>2014</td>\n",
       "      <td>20%</td>\n",
       "      <td>Above EHB</td>\n",
       "      <td>Combined annual benefit maximum of $1000 per y...</td>\n",
       "      <td>21989AK0010001-00</td>\n",
       "      <td>68</td>\n",
       "      <td>HIOS</td>\n",
       "      <td>21989AK0010001</td>\n",
       "      <td>AK</td>\n",
       "      <td>AK</td>\n",
       "      <td>6</td>\n",
       "    </tr>\n",
       "    <tr>\n",
       "      <th>1</th>\n",
       "      <td>Dental Check-Up for Children</td>\n",
       "      <td>2014</td>\n",
       "      <td>20%</td>\n",
       "      <td>Substantially Equal</td>\n",
       "      <td>See policy for additional limitations</td>\n",
       "      <td>21989AK0010001-00</td>\n",
       "      <td>104</td>\n",
       "      <td>HIOS</td>\n",
       "      <td>21989AK0010001</td>\n",
       "      <td>AK</td>\n",
       "      <td>AK</td>\n",
       "      <td>6</td>\n",
       "    </tr>\n",
       "    <tr>\n",
       "      <th>2</th>\n",
       "      <td>Basic Dental Care - Child</td>\n",
       "      <td>2014</td>\n",
       "      <td>40%</td>\n",
       "      <td>Substantially Equal</td>\n",
       "      <td>See policy for additional limitations</td>\n",
       "      <td>21989AK0010001-00</td>\n",
       "      <td>110</td>\n",
       "      <td>HIOS</td>\n",
       "      <td>21989AK0010001</td>\n",
       "      <td>AK</td>\n",
       "      <td>AK</td>\n",
       "      <td>6</td>\n",
       "    </tr>\n",
       "    <tr>\n",
       "      <th>3</th>\n",
       "      <td>Orthodontia - Child</td>\n",
       "      <td>2014</td>\n",
       "      <td>50%</td>\n",
       "      <td>Additional EHB Benefit</td>\n",
       "      <td>24 month waiting period, See policy for additi...</td>\n",
       "      <td>21989AK0010001-00</td>\n",
       "      <td>111</td>\n",
       "      <td>HIOS</td>\n",
       "      <td>21989AK0010001</td>\n",
       "      <td>AK</td>\n",
       "      <td>AK</td>\n",
       "      <td>6</td>\n",
       "    </tr>\n",
       "    <tr>\n",
       "      <th>4</th>\n",
       "      <td>Major Dental Care - Child</td>\n",
       "      <td>2014</td>\n",
       "      <td>50%</td>\n",
       "      <td>Substantially Equal</td>\n",
       "      <td>See policy for additional limitations</td>\n",
       "      <td>21989AK0010001-00</td>\n",
       "      <td>112</td>\n",
       "      <td>HIOS</td>\n",
       "      <td>21989AK0010001</td>\n",
       "      <td>AK</td>\n",
       "      <td>AK</td>\n",
       "      <td>6</td>\n",
       "    </tr>\n",
       "    <tr>\n",
       "      <th>...</th>\n",
       "      <td>...</td>\n",
       "      <td>...</td>\n",
       "      <td>...</td>\n",
       "      <td>...</td>\n",
       "      <td>...</td>\n",
       "      <td>...</td>\n",
       "      <td>...</td>\n",
       "      <td>...</td>\n",
       "      <td>...</td>\n",
       "      <td>...</td>\n",
       "      <td>...</td>\n",
       "      <td>...</td>\n",
       "    </tr>\n",
       "    <tr>\n",
       "      <th>194339</th>\n",
       "      <td>Major Dental Care - Child</td>\n",
       "      <td>2016</td>\n",
       "      <td>50% Coinsurance after deductible</td>\n",
       "      <td>NaN</td>\n",
       "      <td>NaN</td>\n",
       "      <td>96480WV0110003-00</td>\n",
       "      <td>112</td>\n",
       "      <td>SERFF</td>\n",
       "      <td>96480WV0110003</td>\n",
       "      <td>WV</td>\n",
       "      <td>WV</td>\n",
       "      <td>2</td>\n",
       "    </tr>\n",
       "    <tr>\n",
       "      <th>194340</th>\n",
       "      <td>Basic Dental Care - Adult</td>\n",
       "      <td>2016</td>\n",
       "      <td>NaN</td>\n",
       "      <td>NaN</td>\n",
       "      <td>NaN</td>\n",
       "      <td>96480WV0110003-00</td>\n",
       "      <td>113</td>\n",
       "      <td>SERFF</td>\n",
       "      <td>96480WV0110003</td>\n",
       "      <td>WV</td>\n",
       "      <td>WV</td>\n",
       "      <td>2</td>\n",
       "    </tr>\n",
       "    <tr>\n",
       "      <th>194341</th>\n",
       "      <td>Orthodontia - Adult</td>\n",
       "      <td>2016</td>\n",
       "      <td>NaN</td>\n",
       "      <td>NaN</td>\n",
       "      <td>NaN</td>\n",
       "      <td>96480WV0110003-00</td>\n",
       "      <td>114</td>\n",
       "      <td>SERFF</td>\n",
       "      <td>96480WV0110003</td>\n",
       "      <td>WV</td>\n",
       "      <td>WV</td>\n",
       "      <td>2</td>\n",
       "    </tr>\n",
       "    <tr>\n",
       "      <th>194342</th>\n",
       "      <td>Major Dental Care - Adult</td>\n",
       "      <td>2016</td>\n",
       "      <td>NaN</td>\n",
       "      <td>NaN</td>\n",
       "      <td>NaN</td>\n",
       "      <td>96480WV0110003-00</td>\n",
       "      <td>115</td>\n",
       "      <td>SERFF</td>\n",
       "      <td>96480WV0110003</td>\n",
       "      <td>WV</td>\n",
       "      <td>WV</td>\n",
       "      <td>2</td>\n",
       "    </tr>\n",
       "    <tr>\n",
       "      <th>194343</th>\n",
       "      <td>Accidental Dental</td>\n",
       "      <td>2016</td>\n",
       "      <td>NaN</td>\n",
       "      <td>NaN</td>\n",
       "      <td>NaN</td>\n",
       "      <td>96480WV0110003-00</td>\n",
       "      <td>118</td>\n",
       "      <td>SERFF</td>\n",
       "      <td>96480WV0110003</td>\n",
       "      <td>WV</td>\n",
       "      <td>WV</td>\n",
       "      <td>2</td>\n",
       "    </tr>\n",
       "  </tbody>\n",
       "</table>\n",
       "<p>5048408 rows × 12 columns</p>\n",
       "</div>"
      ],
      "text/plain": [
       "                            BenefitName  BusinessYear  \\\n",
       "0       Routine Dental Services (Adult)          2014   \n",
       "1          Dental Check-Up for Children          2014   \n",
       "2             Basic Dental Care - Child          2014   \n",
       "3                   Orthodontia - Child          2014   \n",
       "4             Major Dental Care - Child          2014   \n",
       "...                                 ...           ...   \n",
       "194339        Major Dental Care - Child          2016   \n",
       "194340        Basic Dental Care - Adult          2016   \n",
       "194341              Orthodontia - Adult          2016   \n",
       "194342        Major Dental Care - Adult          2016   \n",
       "194343                Accidental Dental          2016   \n",
       "\n",
       "                           CoinsOutofNet            EHBVarReason  \\\n",
       "0                                    20%               Above EHB   \n",
       "1                                    20%     Substantially Equal   \n",
       "2                                    40%     Substantially Equal   \n",
       "3                                    50%  Additional EHB Benefit   \n",
       "4                                    50%     Substantially Equal   \n",
       "...                                  ...                     ...   \n",
       "194339  50% Coinsurance after deductible                     NaN   \n",
       "194340                               NaN                     NaN   \n",
       "194341                               NaN                     NaN   \n",
       "194342                               NaN                     NaN   \n",
       "194343                               NaN                     NaN   \n",
       "\n",
       "                                              Explanation             PlanId  \\\n",
       "0       Combined annual benefit maximum of $1000 per y...  21989AK0010001-00   \n",
       "1                   See policy for additional limitations  21989AK0010001-00   \n",
       "2                   See policy for additional limitations  21989AK0010001-00   \n",
       "3       24 month waiting period, See policy for additi...  21989AK0010001-00   \n",
       "4                   See policy for additional limitations  21989AK0010001-00   \n",
       "...                                                   ...                ...   \n",
       "194339                                                NaN  96480WV0110003-00   \n",
       "194340                                                NaN  96480WV0110003-00   \n",
       "194341                                                NaN  96480WV0110003-00   \n",
       "194342                                                NaN  96480WV0110003-00   \n",
       "194343                                                NaN  96480WV0110003-00   \n",
       "\n",
       "        RowNumber SourceName StandardComponentId StateCode StateCode2  \\\n",
       "0              68       HIOS      21989AK0010001        AK         AK   \n",
       "1             104       HIOS      21989AK0010001        AK         AK   \n",
       "2             110       HIOS      21989AK0010001        AK         AK   \n",
       "3             111       HIOS      21989AK0010001        AK         AK   \n",
       "4             112       HIOS      21989AK0010001        AK         AK   \n",
       "...           ...        ...                 ...       ...        ...   \n",
       "194339        112      SERFF      96480WV0110003        WV         WV   \n",
       "194340        113      SERFF      96480WV0110003        WV         WV   \n",
       "194341        114      SERFF      96480WV0110003        WV         WV   \n",
       "194342        115      SERFF      96480WV0110003        WV         WV   \n",
       "194343        118      SERFF      96480WV0110003        WV         WV   \n",
       "\n",
       "        VersionNum  \n",
       "0                6  \n",
       "1                6  \n",
       "2                6  \n",
       "3                6  \n",
       "4                6  \n",
       "...            ...  \n",
       "194339           2  \n",
       "194340           2  \n",
       "194341           2  \n",
       "194342           2  \n",
       "194343           2  \n",
       "\n",
       "[5048408 rows x 12 columns]"
      ]
     },
     "execution_count": 16,
     "metadata": {},
     "output_type": "execute_result"
    }
   ],
   "source": [
    "ddata = dd.read_csv('BenefitsCostSharing.csv', dtype=dtypes, usecols=dtypes.keys())\n",
    "ddata.reset_index(drop=True).compute()\n",
    "# df = ddata.drop_duplicates()"
   ]
  },
  {
   "cell_type": "code",
   "execution_count": 82,
   "metadata": {},
   "outputs": [
    {
     "data": {
      "text/html": [
       "<div><strong>Dask DataFrame Structure:</strong></div>\n",
       "<div>\n",
       "<style scoped>\n",
       "    .dataframe tbody tr th:only-of-type {\n",
       "        vertical-align: middle;\n",
       "    }\n",
       "\n",
       "    .dataframe tbody tr th {\n",
       "        vertical-align: top;\n",
       "    }\n",
       "\n",
       "    .dataframe thead th {\n",
       "        text-align: right;\n",
       "    }\n",
       "</style>\n",
       "<table border=\"1\" class=\"dataframe\">\n",
       "  <thead>\n",
       "    <tr style=\"text-align: right;\">\n",
       "      <th></th>\n",
       "      <th>BenefitName</th>\n",
       "      <th>BusinessYear</th>\n",
       "      <th>CoinsOutofNet</th>\n",
       "      <th>EHBVarReason</th>\n",
       "      <th>Explanation</th>\n",
       "      <th>PlanId</th>\n",
       "      <th>RowNumber</th>\n",
       "      <th>SourceName</th>\n",
       "      <th>StandardComponentId</th>\n",
       "      <th>StateCode</th>\n",
       "      <th>StateCode2</th>\n",
       "      <th>VersionNum</th>\n",
       "    </tr>\n",
       "    <tr>\n",
       "      <th>npartitions=21</th>\n",
       "      <th></th>\n",
       "      <th></th>\n",
       "      <th></th>\n",
       "      <th></th>\n",
       "      <th></th>\n",
       "      <th></th>\n",
       "      <th></th>\n",
       "      <th></th>\n",
       "      <th></th>\n",
       "      <th></th>\n",
       "      <th></th>\n",
       "      <th></th>\n",
       "    </tr>\n",
       "  </thead>\n",
       "  <tbody>\n",
       "    <tr>\n",
       "      <th></th>\n",
       "      <td>object</td>\n",
       "      <td>uint16</td>\n",
       "      <td>object</td>\n",
       "      <td>object</td>\n",
       "      <td>object</td>\n",
       "      <td>object</td>\n",
       "      <td>uint16</td>\n",
       "      <td>object</td>\n",
       "      <td>object</td>\n",
       "      <td>object</td>\n",
       "      <td>object</td>\n",
       "      <td>uint16</td>\n",
       "    </tr>\n",
       "    <tr>\n",
       "      <th></th>\n",
       "      <td>...</td>\n",
       "      <td>...</td>\n",
       "      <td>...</td>\n",
       "      <td>...</td>\n",
       "      <td>...</td>\n",
       "      <td>...</td>\n",
       "      <td>...</td>\n",
       "      <td>...</td>\n",
       "      <td>...</td>\n",
       "      <td>...</td>\n",
       "      <td>...</td>\n",
       "      <td>...</td>\n",
       "    </tr>\n",
       "    <tr>\n",
       "      <th>...</th>\n",
       "      <td>...</td>\n",
       "      <td>...</td>\n",
       "      <td>...</td>\n",
       "      <td>...</td>\n",
       "      <td>...</td>\n",
       "      <td>...</td>\n",
       "      <td>...</td>\n",
       "      <td>...</td>\n",
       "      <td>...</td>\n",
       "      <td>...</td>\n",
       "      <td>...</td>\n",
       "      <td>...</td>\n",
       "    </tr>\n",
       "    <tr>\n",
       "      <th></th>\n",
       "      <td>...</td>\n",
       "      <td>...</td>\n",
       "      <td>...</td>\n",
       "      <td>...</td>\n",
       "      <td>...</td>\n",
       "      <td>...</td>\n",
       "      <td>...</td>\n",
       "      <td>...</td>\n",
       "      <td>...</td>\n",
       "      <td>...</td>\n",
       "      <td>...</td>\n",
       "      <td>...</td>\n",
       "    </tr>\n",
       "    <tr>\n",
       "      <th></th>\n",
       "      <td>...</td>\n",
       "      <td>...</td>\n",
       "      <td>...</td>\n",
       "      <td>...</td>\n",
       "      <td>...</td>\n",
       "      <td>...</td>\n",
       "      <td>...</td>\n",
       "      <td>...</td>\n",
       "      <td>...</td>\n",
       "      <td>...</td>\n",
       "      <td>...</td>\n",
       "      <td>...</td>\n",
       "    </tr>\n",
       "  </tbody>\n",
       "</table>\n",
       "</div>\n",
       "<div>Dask Name: read-csv, 21 tasks</div>"
      ],
      "text/plain": [
       "Dask DataFrame Structure:\n",
       "               BenefitName BusinessYear CoinsOutofNet EHBVarReason Explanation  PlanId RowNumber SourceName StandardComponentId StateCode StateCode2 VersionNum\n",
       "npartitions=21                                                                                                                                                 \n",
       "                    object       uint16        object       object      object  object    uint16     object              object    object     object     uint16\n",
       "                       ...          ...           ...          ...         ...     ...       ...        ...                 ...       ...        ...        ...\n",
       "...                    ...          ...           ...          ...         ...     ...       ...        ...                 ...       ...        ...        ...\n",
       "                       ...          ...           ...          ...         ...     ...       ...        ...                 ...       ...        ...        ...\n",
       "                       ...          ...           ...          ...         ...     ...       ...        ...                 ...       ...        ...        ...\n",
       "Dask Name: read-csv, 21 tasks"
      ]
     },
     "execution_count": 82,
     "metadata": {},
     "output_type": "execute_result"
    }
   ],
   "source": [
    "ddata"
   ]
  },
  {
   "cell_type": "code",
   "execution_count": 86,
   "metadata": {},
   "outputs": [],
   "source": [
    "ddata.to_json??"
   ]
  },
  {
   "cell_type": "code",
   "execution_count": 118,
   "metadata": {},
   "outputs": [
    {
     "data": {
      "text/plain": [
       "60580896"
      ]
     },
     "execution_count": 118,
     "metadata": {},
     "output_type": "execute_result"
    }
   ],
   "source": [
    "ddata.size.compute()"
   ]
  },
  {
   "cell_type": "code",
   "execution_count": 101,
   "metadata": {},
   "outputs": [
    {
     "data": {
      "text/plain": [
       "Index(['BenefitName', 'BusinessYear', 'CoinsOutofNet', 'EHBVarReason',\n",
       "       'Explanation', 'PlanId', 'RowNumber', 'SourceName',\n",
       "       'StandardComponentId', 'StateCode', 'StateCode2', 'VersionNum'],\n",
       "      dtype='object')"
      ]
     },
     "execution_count": 101,
     "metadata": {},
     "output_type": "execute_result"
    }
   ],
   "source": [
    "ddata.columns"
   ]
  },
  {
   "cell_type": "code",
   "execution_count": 17,
   "metadata": {},
   "outputs": [
    {
     "data": {
      "text/plain": [
       "240"
      ]
     },
     "execution_count": 17,
     "metadata": {},
     "output_type": "execute_result"
    }
   ],
   "source": [
    "ddata.query(\"(BenefitName.str.contains('Rou*ti', regex= True))\").loc[:10, :].size.compute()"
   ]
  },
  {
   "cell_type": "code",
   "execution_count": 108,
   "metadata": {},
   "outputs": [],
   "source": [
    "filters = {\"BenefitName\": \"Rou*ti\", \"VersionNum\": \"<6\"}"
   ]
  },
  {
   "cell_type": "code",
   "execution_count": 116,
   "metadata": {},
   "outputs": [
    {
     "name": "stdout",
     "output_type": "stream",
     "text": [
      "\n"
     ]
    }
   ],
   "source": [
    "def build_query(filters):\n",
    "    num_keys = [\"BusinessYear\", \"RowNumber\", \"VersionNum\"]\n",
    "    query = []\n",
    "    for k,v in filters.items():\n",
    "        if (\"<\" in v or \">\" in v) and k in num_keys:\n",
    "            query.append(f\"({k}{v})\")\n",
    "        elif \"==\" in v or \"!=\" in v:\n",
    "            query.append(f\"({k}{v})\")\n",
    "        else:\n",
    "            \n",
    "            query.append(f\"({k}.str.contains('{v}', regex= True))\")\n",
    "    return \" and \".join(query)\n"
   ]
  },
  {
   "cell_type": "code",
   "execution_count": 117,
   "metadata": {},
   "outputs": [
    {
     "name": "stdout",
     "output_type": "stream",
     "text": [
      "\n"
     ]
    }
   ],
   "source": [
    "print(build_query({}))"
   ]
  },
  {
   "cell_type": "code",
   "execution_count": null,
   "metadata": {},
   "outputs": [],
   "source": []
  }
 ],
 "metadata": {
  "kernelspec": {
   "display_name": "Python 3",
   "language": "python",
   "name": "python3"
  },
  "language_info": {
   "codemirror_mode": {
    "name": "ipython",
    "version": 3
   },
   "file_extension": ".py",
   "mimetype": "text/x-python",
   "name": "python",
   "nbconvert_exporter": "python",
   "pygments_lexer": "ipython3",
   "version": "3.8.3"
  }
 },
 "nbformat": 4,
 "nbformat_minor": 4
}
